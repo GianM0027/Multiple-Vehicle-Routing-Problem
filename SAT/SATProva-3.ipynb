{
  "nbformat": 4,
  "nbformat_minor": 0,
  "metadata": {
    "colab": {
      "provenance": []
    },
    "kernelspec": {
      "name": "python3",
      "display_name": "Python 3"
    },
    "language_info": {
      "name": "python"
    }
  },
  "cells": [
    {
      "cell_type": "code",
      "source": [
        "!pip install z3-solver"
      ],
      "metadata": {
        "colab": {
          "base_uri": "https://localhost:8080/"
        },
        "id": "yVXjZ2X_QyOL",
        "outputId": "616793e8-7251-4a94-8cb4-4edf924ddb09"
      },
      "execution_count": 77,
      "outputs": [
        {
          "output_type": "stream",
          "name": "stdout",
          "text": [
            "Requirement already satisfied: z3-solver in /usr/local/lib/python3.10/dist-packages (4.12.2.0)\n"
          ]
        }
      ]
    },
    {
      "cell_type": "code",
      "source": [
        "from itertools import combinations\n",
        "def at_least_one(bool_vars):\n",
        "    return Or(bool_vars)\n",
        "\n",
        "def at_most_one_np(bool_vars, name = \"\"):\n",
        "    return And([Not(And(pair[0], pair[1])) for pair in combinations(bool_vars, 2)])\n",
        "\n",
        "def exactly_one(bool_vars):\n",
        "    return at_most_one_np(bool_vars) + [at_least_one(bool_vars)]\n",
        "\n",
        "def at_least_k_np(bool_vars, k, name = \"\"):\n",
        "    return at_most_k_np([Not(var) for var in bool_vars], len(bool_vars)-k, name)\n",
        "\n",
        "def at_most_k_np(bool_vars, k, name = \"\"):\n",
        "    return And([Or([Not(x) for x in X]) for X in combinations(bool_vars, k + 1)])\n",
        "\n",
        "def exactly_k_np(bool_vars, k, name = \"\"):\n",
        "    return And(at_most_k_np(bool_vars, k, name), at_least_k_np(bool_vars, k, name))\n"
      ],
      "metadata": {
        "id": "w8DedPnmXlUL"
      },
      "execution_count": 78,
      "outputs": []
    },
    {
      "cell_type": "code",
      "execution_count": 84,
      "metadata": {
        "id": "cFEareaqQsWz",
        "colab": {
          "base_uri": "https://localhost:8080/"
        },
        "outputId": "bdaf2044-fc2c-4d18-9f09-2658adf852b9"
      },
      "outputs": [
        {
          "output_type": "stream",
          "name": "stdout",
          "text": [
            "[[[x_0_0_0, x_0_0_1, x_0_0_2], [x_0_1_0, x_0_1_1, x_0_1_2], [x_0_2_0, x_0_2_1, x_0_2_2], [x_0_3_0, x_0_3_1, x_0_3_2], [x_0_4_0, x_0_4_1, x_0_4_2], [x_0_5_0, x_0_5_1, x_0_5_2]], [[x_1_0_0, x_1_0_1, x_1_0_2], [x_1_1_0, x_1_1_1, x_1_1_2], [x_1_2_0, x_1_2_1, x_1_2_2], [x_1_3_0, x_1_3_1, x_1_3_2], [x_1_4_0, x_1_4_1, x_1_4_2], [x_1_5_0, x_1_5_1, x_1_5_2]], [[x_2_0_0, x_2_0_1, x_2_0_2], [x_2_1_0, x_2_1_1, x_2_1_2], [x_2_2_0, x_2_2_1, x_2_2_2], [x_2_3_0, x_2_3_1, x_2_3_2], [x_2_4_0, x_2_4_1, x_2_4_2], [x_2_5_0, x_2_5_1, x_2_5_2]], [[x_3_0_0, x_3_0_1, x_3_0_2], [x_3_1_0, x_3_1_1, x_3_1_2], [x_3_2_0, x_3_2_1, x_3_2_2], [x_3_3_0, x_3_3_1, x_3_3_2], [x_3_4_0, x_3_4_1, x_3_4_2], [x_3_5_0, x_3_5_1, x_3_5_2]], [[x_4_0_0, x_4_0_1, x_4_0_2], [x_4_1_0, x_4_1_1, x_4_1_2], [x_4_2_0, x_4_2_1, x_4_2_2], [x_4_3_0, x_4_3_1, x_4_3_2], [x_4_4_0, x_4_4_1, x_4_4_2], [x_4_5_0, x_4_5_1, x_4_5_2]], [[x_5_0_0, x_5_0_1, x_5_0_2], [x_5_1_0, x_5_1_1, x_5_1_2], [x_5_2_0, x_5_2_1, x_5_2_2], [x_5_3_0, x_5_3_1, x_5_3_2], [x_5_4_0, x_5_4_1, x_5_4_2], [x_5_5_0, x_5_5_1, x_5_5_2]]]\n",
            "[[v_0_0, v_0_1, v_0_2], [v_1_0, v_1_1, v_1_2], [v_2_0, v_2_1, v_2_2], [v_3_0, v_3_1, v_3_2], [v_4_0, v_4_1, v_4_2]]\n"
          ]
        },
        {
          "output_type": "execute_result",
          "data": {
            "text/plain": [
              "<z3.z3.OptimizeObjective at 0x7f633c2e7310>"
            ]
          },
          "metadata": {},
          "execution_count": 84
        }
      ],
      "source": [
        "from z3 import *\n",
        "from math import log2\n",
        "import numpy as np\n",
        "\n",
        "# Parameters\n",
        "n_couriers = 3\n",
        "n_items = 5\n",
        "max_load = [10, 15, 20]\n",
        "size_item = [2, 3, 5, 7, 9]\n",
        "all_distances = [[0, 2, 3, 5, 7, 9], [2, 0, 1, 4, 6, 8], [3, 1, 0, 3, 5, 7], [5, 4, 3, 0, 2, 4], [7, 6, 5, 2, 0, 2], [9, 8, 7, 4, 2, 0]]\n",
        "\n",
        "\"\"\"n_couriers = 3\n",
        "n_items = 7\n",
        "max_load = [10, 15, 7]\n",
        "size_item = [3, 2, 6, 8, 5, 4, 4]\n",
        "all_distances = [[0, 3, 3, 6, 5, 6, 6, 2], [3, 0, 4, 3, 4, 7, 7, 3], [3, 4, 0, 7, 6, 3, 5, 3], [6, 3, 7, 0, 3, 6, 6, 4], [5, 4, 6, 3, 0, 3, 3, 3], [6, 7, 3, 6, 3, 0, 2, 4], [6, 7, 5, 6, 3, 2, 0, 4], [2, 3, 3, 4, 3, 4, 4, 0]]\n",
        "\"\"\"\n",
        "\n",
        "\"\"\"\n",
        "- n = is the number of clientes                                      | --> n_items\n",
        "- N =  is set of clients, with N ={1, ..., n}                        | --> Mi posso creare il set of items (per euguagliare il set of clieents)\n",
        "- V is set of vetices (or nodes) with V = {0} u N                    |\n",
        "- A  is set of arcs, with A = {(i, j) ∈ V^2  : i!= j}                |\n",
        "- c_i,j is cost of travel over arc (i, j) ∈ A                        |\n",
        "- Q is the vehicle capacity                                          |\n",
        "- q_i is the amount that has to be delivered to customer i ∈ N       | --> size_item (it's a dictionary on yt tutorial)\n",
        "\n",
        "\n",
        "set of customer C --> size_item\n",
        "set of routes R --> x\n",
        "vehicle capacity Q -> max_load\n",
        "cost of route c_r --> ???\n",
        "Customer visited on route r C(r) --> ???\n",
        "max number of vehicles k --> n_couriers\n",
        "\n",
        "\n",
        "contraints:\n",
        "\n",
        "# Each node visited only once [y]\n",
        "# Each courier depart and go back from depot [y]\n",
        "# Each courier can go back and depart from depot at maximum one time [y]\n",
        "# Constraint on the load of each courier [y]\n",
        "\n",
        "# Each item must be delivered\n",
        "\n",
        "\"\"\"\n",
        "\n",
        "s = Optimize()\n",
        "\n",
        "\n",
        "\n",
        "x = [[[Bool(f\"x_{i}_{j}_{k}\") for k in range(n_couriers)] for j in range(n_items+1)] for i in range(n_items+1)] # x[k][i][j] == True : route (i->j) is used by courier k | set of Archs\n",
        "v = [[Bool(f\"v_{i}_{k}\") for k in range(n_couriers)] for i in range(n_items)] #vehicle k is assigned to node i\n",
        "\n",
        "\n",
        "\n",
        "print(x)\n",
        "print(v)\n",
        "# - - - - - - - - - - - - - - - - - - - - - - - -  CONSTRAINTS - - - - - - - - - - - - - - - - - - - - - - - - - - - - - - #\n",
        "\n",
        "#implicit constraint: no routes from any node to itself\n",
        "for k in range(n_couriers):\n",
        "  s.add([x[i][i][k] == False for i in range(n_items+1)])\n",
        "\n",
        "# - - - - - - - - - - - - - - - - - - - - - - - - - - - - - - - - - - - - - - - #\n",
        "\n",
        "\"\"\"#for each vehicle if x[k][i][j] = True, (i, j) -> (j, l)\n",
        "for k in range(n_couriers):\n",
        "  s.add([Implies(x[i][j][k], x[j][l][k]) for i in range(n_items+1) for j in range(n_items+1) for l in range(1, n_items+1)])\"\"\"\n",
        "\n",
        "#for each vehicle if x[k][i][j] = True, (i, j) -> (j, l)\n",
        "for k in range(n_couriers):\n",
        "    for i in range(n_items+1):\n",
        "        for j in range(n_items+1):\n",
        "            s.add(Implies(x[i][j][k], Or([x[j][l][k] for l in range(n_items+1) if l != j])))\n",
        "\n",
        "# - - - - - - - - - - - - - - - - - - - - - - - - - - - - - - - - - - - - - - - #\n",
        "\n",
        "\n",
        "# To ensure that each node (i, j) is visited only once, for each node there is exactly one arc entering and leaving from it\n",
        "\n",
        "for i in range(1, n_items+1):  # start from 1 to exclude the depot\n",
        "  s.add(PbEq([(x[i][j][k], 1) for j in range(n_items+1) for k in range(n_couriers)], 1))  # each node is left exactly once by each courier\n",
        "\n",
        "for j in range(1, n_items+1):  # start from 1 to exclude the depot\n",
        "    s.add(PbEq([(x[i][j][k], 1) for i in range(n_items+1) for k in range(n_couriers)], 1))  # each node is entered exactly once by each courier\n",
        "\n",
        "# each courier return from the depot\n",
        "for k in range(n_couriers):\n",
        "    s.add(PbEq([(x[i][0][k], 1) for i in range(n_items+1)], 1))\n",
        "\n",
        "# each courier depart from the depot\n",
        "for k in range(n_couriers):\n",
        "    s.add(PbEq([(x[0][j][k], 1) for j in range(n_items+1)], 1))\n",
        "\n",
        "\n",
        "#for each vehicle, the total load over its route must be smaller than its max load size\n",
        "for k in range(n_couriers):\n",
        "  s.add(PbLe([(v[i][k], size_item[i]) for i in range(n_items)], max_load[k]))\n",
        "\n",
        "total_distance = Sum([If(x[i][j][k], all_distances[i][j], 0) for k in range(n_couriers) for i in range(n_items+1) for j in range(n_items+1)])\n",
        "s.minimize(total_distance)\n"
      ]
    },
    {
      "cell_type": "code",
      "source": [
        "r_temp = 0\n",
        "if s.check() == sat:\n",
        "  model = s.model()\n",
        "  r = [[[ model.evaluate(x[i][j][k]) for k in range(n_couriers)] for j in range(n_items+1)] for i in range(n_items+1)]\n",
        "  ut = [[model.evaluate(v[i][k]) for k in range(n_couriers)] for i in range(n_items)]\n",
        "\n",
        "  print(r)\n",
        "  print(\"\\n\")\n",
        "\n",
        "  for k in range(n_couriers):\n",
        "    for i in range(n_items+1):\n",
        "      for j in range(n_items+1):\n",
        "        if model.evaluate(x[i][j][k]) == True:\n",
        "            print(x[i][j][k])\n",
        "    print(\"\\n\")\n",
        "\n",
        "\n",
        "  print(model.evaluate(total_distance))\n",
        "  print(\"\\n\")\n",
        "\n",
        "\n",
        "  # Objective: Minimize total distance traveled\n",
        "\n",
        "\n",
        "else:\n",
        "  print(\"UNSATISFIABLE\")\n",
        "\n",
        ""
      ],
      "metadata": {
        "colab": {
          "base_uri": "https://localhost:8080/"
        },
        "id": "PdA-rAVbc9Vu",
        "outputId": "67fc3a4d-dc2d-4df5-cdc9-d5e1396e8d74"
      },
      "execution_count": 85,
      "outputs": [
        {
          "output_type": "stream",
          "name": "stdout",
          "text": [
            "[[[False, False, False], [True, False, False], [False, True, False], [False, False, True], [False, False, False], [False, False, False]], [[True, False, False], [False, False, False], [False, False, False], [False, False, False], [False, False, False], [False, False, False]], [[False, True, False], [False, False, False], [False, False, False], [False, False, False], [False, False, False], [False, False, False]], [[False, False, True], [False, False, False], [False, False, False], [False, False, False], [False, False, False], [False, False, False]], [[False, False, False], [False, False, False], [False, False, False], [False, False, False], [False, False, False], [True, False, False]], [[False, False, False], [False, False, False], [False, False, False], [False, False, False], [True, False, False], [False, False, False]]]\n",
            "\n",
            "\n",
            "x_0_1_0\n",
            "x_1_0_0\n",
            "x_4_5_0\n",
            "x_5_4_0\n",
            "\n",
            "\n",
            "x_0_2_1\n",
            "x_2_0_1\n",
            "\n",
            "\n",
            "x_0_3_2\n",
            "x_3_0_2\n",
            "\n",
            "\n",
            "24\n",
            "\n",
            "\n"
          ]
        }
      ]
    },
    {
      "cell_type": "code",
      "source": [],
      "metadata": {
        "id": "EhR5dQoKsnWx"
      },
      "execution_count": null,
      "outputs": []
    },
    {
      "cell_type": "code",
      "source": [
        "\"\"\"\n",
        "PbEq() function from Z3, which stands for \"pseudo-boolean equality\".\n",
        "  This function takes two arguments: a list of pairs, where each pair consists of a Boolean variable and a weight, and a number.\n",
        "  It returns True if the sum of the weights of the True variables is equal to the number.\n",
        "\n",
        "PbLe() function from Z3, which stands for \"pseudo-boolean less than or equal to\".\n",
        "  It takes two arguments: a list of pairs and a number. Each pair in the list consists of a boolean variable and an integer weight.\n",
        "  The function returns True if the sum of the weights of the True variables is less than or equal to the number.\n",
        "\n",
        "\n",
        "\n",
        "\n",
        "\"\"\""
      ],
      "metadata": {
        "id": "lz8KVRyGRBN8"
      },
      "execution_count": null,
      "outputs": []
    }
  ]
}